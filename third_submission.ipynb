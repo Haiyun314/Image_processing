{
 "cells": [
  {
   "cell_type": "code",
   "execution_count": 6,
   "metadata": {},
   "outputs": [],
   "source": [
    "import numpy as np\n",
    "import os\n",
    "import matplotlib.pyplot as plt"
   ]
  },
  {
   "cell_type": "markdown",
   "metadata": {},
   "source": [
    "### Note: code also uploaded to github. https://github.com/Haiyun314/Image_processing/tree/main\n",
    "Python3 --version = 3.10.8\n",
    "\n",
    "numpy.__version__ = '1.23.2' \n",
    "\n",
    "matplotlib.__version__ = '3.6.3'\n"
   ]
  },
  {
   "cell_type": "markdown",
   "metadata": {},
   "source": [
    "## Differential operators"
   ]
  },
  {
   "cell_type": "code",
   "execution_count": 7,
   "metadata": {},
   "outputs": [],
   "source": [
    "\n",
    "def gradient(image: np.ndarray):\n",
    "    \"\"\" forward \"\"\"\n",
    "    permutation_x = np.concatenate([image[:, -1:], image[:, :-1]], axis= -1)\n",
    "    permutation_y = np.concatenate([image[-1:, :], image[:-1, :]], axis = 0)\n",
    "    grad_x = permutation_x - image\n",
    "    grad_y = permutation_y - image\n",
    "    return np.stack((grad_x, grad_y), axis= -1)\n",
    "\n",
    "def lap(grad: np.ndarray):\n",
    "    \"\"\" backward \"\"\"\n",
    "    image_x_grad, image_y_grad = grad[..., 0], grad[..., 1]\n",
    "    permutation_x = np.concatenate([image_x_grad[:, -1:], image_x_grad[:, :-1]], axis= -1)\n",
    "    permutation_y = np.concatenate([image_y_grad[-1:, :], image_y_grad[:-1, :]], axis= 0)\n",
    "    grad_xx = image_x_grad - permutation_x\n",
    "    grad_yy = image_y_grad - permutation_y\n",
    "    return grad_xx + grad_yy\n",
    "\n",
    "def ROF_gradient(image: np.ndarray ,lmbd: float, num_iters: int):\n",
    "    u = image\n",
    "    t = 0.01\n",
    "    while num_iters:\n",
    "        num_iters -= 1\n",
    "        grad = gradient(u)\n",
    "        grad_norm = grad/np.sqrt(grad[..., 0]**2 + grad[..., 1]**2 + 0.00001)\n",
    "        u = u - t * (- lmbd * lap(grad_norm) + u - image)\n",
    "    return u\n",
    "\n",
    "def prox_tv(grad: np.ndarray, lmbd: float):\n",
    "    \"\"\" total variation.\"\"\"\n",
    "    norm_grad = np.maximum(1.0, np.sqrt(grad[..., 0]**2 + grad[..., 1]**2) / lmbd)\n",
    "    grad[..., 0] /= norm_grad\n",
    "    grad[..., 1] /= norm_grad\n",
    "    return grad\n",
    "\n",
    "\n",
    "def prox_l2(u: np.ndarray, image: np.ndarray, tau):\n",
    "    \"\"\" the L2 norm.\"\"\"\n",
    "    return (u + tau * image) / (1 + tau)\n",
    "\n",
    "def ROF_primal_dual(image: np.ndarray, lmbd, num_iters=100, tau=0.02, sigma=0.25, theta=1.0):\n",
    "    \"\"\"Perform the primal-dual minimization algorithm for the ROF model.\"\"\"\n",
    "    # Initializations\n",
    "    m, n = image.shape\n",
    "    u = np.zeros((m, n))\n",
    "    grad_init = np.zeros((m, n, 2))\n",
    "    u_bar = u.copy()\n",
    "    \n",
    "    L_squared = 8.0\n",
    "    \n",
    "    # Ensure that sigma * tau * L_squared < 1\n",
    "    assert sigma * tau * L_squared < 1, \"Step size parameters do not satisfy the convergence condition.\"\n",
    "    \n",
    "    for _ in range(num_iters):\n",
    "        grad_u_bar = gradient(u_bar)\n",
    "        \n",
    "        # proximal operator for total variation\n",
    "        grad_init = prox_tv(grad_init + sigma * grad_u_bar, lmbd)\n",
    "        \n",
    "        # divergence of the grad\n",
    "        div_p = lap(grad_init)\n",
    "        u_new = prox_l2(u - tau * div_p, image, tau)\n",
    "\n",
    "        u_bar = u_new + theta * (u_new - u)\n",
    "        u = u_new\n",
    "    \n",
    "    return u\n",
    "\n",
    "if __name__ == '__main__':\n",
    "    img = plt.imread('./images/cameraman_sp.png')\n",
    "    lmbd = 0.1 \n",
    "    solution = ROF_gradient(img, 1, 100)\n",
    "    denoised_image = ROF_primal_dual(img, lmbd)\n",
    "\n"
   ]
  }
 ],
 "metadata": {
  "kernelspec": {
   "display_name": "base",
   "language": "python",
   "name": "python3"
  },
  "language_info": {
   "codemirror_mode": {
    "name": "ipython",
    "version": 3
   },
   "file_extension": ".py",
   "mimetype": "text/x-python",
   "name": "python",
   "nbconvert_exporter": "python",
   "pygments_lexer": "ipython3",
   "version": "3.10.8"
  }
 },
 "nbformat": 4,
 "nbformat_minor": 2
}
